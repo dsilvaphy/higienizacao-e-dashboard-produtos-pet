{
 "cells": [
  {
   "cell_type": "code",
   "execution_count": 1,
   "id": "f0d1b86a",
   "metadata": {},
   "outputs": [],
   "source": [
    "#pandas\n",
    "import pandas as pd\n",
    "import math"
   ]
  },
  {
   "cell_type": "markdown",
   "id": "9670bae7",
   "metadata": {},
   "source": [
    "### Importando arquivos\n"
   ]
  },
  {
   "cell_type": "code",
   "execution_count": 2,
   "id": "5c2c3981",
   "metadata": {
    "scrolled": true
   },
   "outputs": [],
   "source": [
    "pet_df = pd.read_csv(\"petlike - 220509.csv\", sep = \";\")\n",
    "#display(pet_df)"
   ]
  },
  {
   "cell_type": "code",
   "execution_count": 3,
   "id": "f470fe28",
   "metadata": {},
   "outputs": [],
   "source": [
    "cad_df = pd.read_excel(\"220509 - CADASTRO - CLIENTES (1).xlsx\")"
   ]
  },
  {
   "cell_type": "markdown",
   "id": "dcf32d44",
   "metadata": {},
   "source": [
    "### Tratando arquivo Excel - Cadastro Clientes"
   ]
  },
  {
   "cell_type": "code",
   "execution_count": 4,
   "id": "c0ba26c5",
   "metadata": {},
   "outputs": [
    {
     "data": {
      "text/html": [
       "<div>\n",
       "<style scoped>\n",
       "    .dataframe tbody tr th:only-of-type {\n",
       "        vertical-align: middle;\n",
       "    }\n",
       "\n",
       "    .dataframe tbody tr th {\n",
       "        vertical-align: top;\n",
       "    }\n",
       "\n",
       "    .dataframe thead th {\n",
       "        text-align: right;\n",
       "    }\n",
       "</style>\n",
       "<table border=\"1\" class=\"dataframe\">\n",
       "  <thead>\n",
       "    <tr style=\"text-align: right;\">\n",
       "      <th></th>\n",
       "      <th>Ramo Cliente</th>\n",
       "    </tr>\n",
       "  </thead>\n",
       "  <tbody>\n",
       "    <tr>\n",
       "      <th>0</th>\n",
       "      <td>Em branco</td>\n",
       "    </tr>\n",
       "    <tr>\n",
       "      <th>1</th>\n",
       "      <td>Em branco</td>\n",
       "    </tr>\n",
       "    <tr>\n",
       "      <th>2</th>\n",
       "      <td>Varejo</td>\n",
       "    </tr>\n",
       "    <tr>\n",
       "      <th>3</th>\n",
       "      <td>EX</td>\n",
       "    </tr>\n",
       "    <tr>\n",
       "      <th>4</th>\n",
       "      <td>EX</td>\n",
       "    </tr>\n",
       "    <tr>\n",
       "      <th>...</th>\n",
       "      <td>...</td>\n",
       "    </tr>\n",
       "    <tr>\n",
       "      <th>1452</th>\n",
       "      <td>Distribuição</td>\n",
       "    </tr>\n",
       "    <tr>\n",
       "      <th>1453</th>\n",
       "      <td>Em branco</td>\n",
       "    </tr>\n",
       "    <tr>\n",
       "      <th>1454</th>\n",
       "      <td>Em branco</td>\n",
       "    </tr>\n",
       "    <tr>\n",
       "      <th>1455</th>\n",
       "      <td>Varejo</td>\n",
       "    </tr>\n",
       "    <tr>\n",
       "      <th>1456</th>\n",
       "      <td>Em branco</td>\n",
       "    </tr>\n",
       "  </tbody>\n",
       "</table>\n",
       "<p>1457 rows × 1 columns</p>\n",
       "</div>"
      ],
      "text/plain": [
       "      Ramo Cliente\n",
       "0        Em branco\n",
       "1        Em branco\n",
       "2           Varejo\n",
       "3               EX\n",
       "4               EX\n",
       "...            ...\n",
       "1452  Distribuição\n",
       "1453     Em branco\n",
       "1454     Em branco\n",
       "1455        Varejo\n",
       "1456     Em branco\n",
       "\n",
       "[1457 rows x 1 columns]"
      ]
     },
     "metadata": {},
     "output_type": "display_data"
    }
   ],
   "source": [
    "#EXCEL - CADASTRO DE CLIENTES\n",
    "\n",
    "cad_df = pd.read_excel(\"220509 - CADASTRO - CLIENTES (1).xlsx\")\n",
    "ramo = cad_df = cad_df.loc[:, ['Ramo Cliente']]\n",
    "\n",
    "ramo.fillna('Em branco', inplace = True)\n",
    "display(ramo)\n",
    "ramo.to_excel(\"ramo.xlsx\")"
   ]
  },
  {
   "cell_type": "markdown",
   "id": "f59d0258",
   "metadata": {},
   "source": [
    "### Tratando arquivo csv "
   ]
  },
  {
   "cell_type": "markdown",
   "id": "a2a90ca0",
   "metadata": {},
   "source": [
    "#### Criando coluna Filiais ativas"
   ]
  },
  {
   "cell_type": "code",
   "execution_count": 5,
   "id": "6748a619",
   "metadata": {},
   "outputs": [],
   "source": [
    "#Criando uma coluna com as empresas filiais ativas\n",
    "pet_df['Filiais ativas'] = pet_df['Empresas filiais - Situação cadastral'].str.count('ATIVA') \n",
    "\n",
    "#Transformar em zero os resultados NaN da colna Filiais\n",
    "\n",
    "pet_df['Filiais ativas'] = pet_df['Filiais ativas'].fillna(0)\n",
    "\n",
    "pet_df['Filiais ativas'] = pet_df['Filiais ativas'].astype(int)   \n",
    "\n",
    "#filiais\n",
    "fil_df = pet_df.loc[:, [ 'Dados cadastrais - Quantidade de filiais ativas']]\n",
    "\n",
    "bins_fil = [-1, 0, 5, 10, 50, 100, 500, math.inf]\n",
    "labels_grup = ['Z. Não tem filiais', 'A. Entre 1 e 5 filiais', 'B. Entre 6 e 10 filiais', \n",
    "                'C. Entre 11 e 50 filiais', 'D. Entre 51 e 100 filiais', 'E. Entre 101 e 500 filiais', 'F. Acima de 500 filiais']\n",
    "\n",
    "pet_df['Filiais'] = pd.cut(pet_df['Dados cadastrais - Quantidade de filiais ativas'], bins_fil, labels = labels_grup)\n",
    "\n",
    "#Separando em nova planilha\n",
    "\n",
    "filial = pet_df.loc[:, ['Dados cadastrais - Quantidade de filiais ativas', 'Filiais', 'Dados cadastrais - CNPJ']]\n",
    "\n",
    "#display(filial)\n",
    "\n",
    "#filial.to_csv(\"filiais.csv\" , sep = \";\")\n",
    "                    \n"
   ]
  },
  {
   "cell_type": "markdown",
   "id": "66668d4c",
   "metadata": {},
   "source": [
    "#### Selecionando as colunas de Destaques"
   ]
  },
  {
   "cell_type": "code",
   "execution_count": 6,
   "id": "1af90b3b",
   "metadata": {},
   "outputs": [],
   "source": [
    "#Selecionando os dados de destaques\n",
    "des_df = pet_df.loc[:, ['Dados cadastrais - CNPJ', 'Dados cadastrais - Situação cadastral', 'Dados cadastrais - Ramo de atividade', 'Filiais ativas' ]]\n",
    "#display(dac_df)\n",
    "\n",
    "#Exportando arquivo em csv\n",
    "#des_df.to_csv(\"parte1pet1.csv\" , sep = \";\")\n"
   ]
  },
  {
   "cell_type": "markdown",
   "id": "487b7472",
   "metadata": {},
   "source": [
    "#### Selecionando as colunas de Dados cadastrais"
   ]
  },
  {
   "cell_type": "code",
   "execution_count": 7,
   "id": "6c46fdea",
   "metadata": {},
   "outputs": [],
   "source": [
    "#Selecionando os dados Dados cadastrais\n",
    "dac_df = pet_df.loc[:, ['Dados cadastrais - CNPJ', 'Dados cadastrais - Descrição natureza jurídica', 'Dados cadastrais - Classificação natureza jurídica', 'Simples nacional - Optante simples' ]]\n",
    "#display(dac_df)\n",
    "\n",
    "#Exportando arquivo em csv\n",
    "#dac_df.to_csv(\"parte2pet.csv\" , sep = \";\")"
   ]
  },
  {
   "cell_type": "markdown",
   "id": "cbd6b2d4",
   "metadata": {},
   "source": [
    "#### Tratando e selecionando as colunas de Porte e Faturamento"
   ]
  },
  {
   "cell_type": "code",
   "execution_count": 8,
   "id": "18ed450e",
   "metadata": {},
   "outputs": [],
   "source": [
    "pet_df['Porte e Faturamento - Quantidade de funcionários'] = pet_df['Porte e Faturamento - Quantidade de funcionários'].fillna(0)\n",
    "pet_df['Porte e Faturamento - Quantidade de funcionários Grupo'] = pet_df['Porte e Faturamento - Quantidade de funcionários Grupo'].fillna(0)\n",
    "\n",
    "pet_df['Porte e Faturamento - Quantidade de funcionários'] = pet_df['Porte e Faturamento - Quantidade de funcionários'].astype(int)\n",
    "pet_df['Porte e Faturamento - Quantidade de funcionários Grupo'] = pet_df['Porte e Faturamento - Quantidade de funcionários Grupo'].astype(int)\n",
    "\n",
    "bins_valores = [-1, 1, 5, 10, 50, 100, 500, math.inf]\n",
    "labels_nomes = ['Z. Não tem Funcionários', 'A. Entre 1 e 5 Funcionários', 'B. Entre 6 e 10 Funcionários', \n",
    "                'C. Entre 11 e 50 Funcionários', 'D. Entre 51 e 100 Funcionários', 'E. Entre 101 e 500 Funcionários', 'F. Acima de 500 Funcionários']\n",
    "\n",
    "coluna1 = pet_df.loc[:, ['Porte e Faturamento - Quantidade de funcionários']]\n",
    "pet_df['Funcionários'] = pd.cut(pet_df['Porte e Faturamento - Quantidade de funcionários'], bins_valores, labels = labels_nomes)\n",
    "\n",
    "bins_valores2 = [-1, 1, 5, 10, 50, 100, 500, math.inf]\n",
    "labels_nomes2 = ['Z. Não tem Funcionários', 'A. Entre 1 e 5 Funcionários', 'B. Entre 6 e 10 Funcionários', \n",
    "                 'C. Entre 11 e 50 Funcionários', 'D. Entre 51 e 100 Funcionários', 'E. Entre 101 e 500 Funcionários', 'F. Acima de 500 Funcionários']\n",
    "coluna2 = pet_df.loc[:, ['Porte e Faturamento - Quantidade de funcionários Grupo']]\n",
    "pet_df['Funcionários Grupo'] = pd.cut(pet_df['Porte e Faturamento - Quantidade de funcionários Grupo'], bins_valores2, labels = labels_nomes2)\n",
    "\n",
    "pet3_df = pet_df.loc[:, ['Dados cadastrais - CNPJ', 'Porte e Faturamento - Quantidade de funcionários' , 'Porte e Faturamento - Quantidade de funcionários Grupo' , \n",
    "                         'Porte e Faturamento - Faturamento Estimado' , 'Porte e Faturamento - Faturamento Estimado Grupo' , 'Dados cadastrais - Quantidade de filiais ativas' , 'Dados cadastrais - É matriz', 'Funcionários', 'Funcionários Grupo']]\n",
    "\n",
    "#display(pet3_df)\n",
    "\n",
    "#pet3_df.to_csv(\"parte3pet.csv\" , sep = \";\")\n"
   ]
  },
  {
   "cell_type": "markdown",
   "id": "5e087ace",
   "metadata": {},
   "source": [
    "#### Agrupando valores do porte e faturamento"
   ]
  },
  {
   "cell_type": "code",
   "execution_count": 20,
   "id": "205075cd",
   "metadata": {},
   "outputs": [],
   "source": [
    "#Para adicionar caracteres \n",
    "\n",
    "pet_df = pet_df.replace({'ATE R$ 81.000,00': 'A. ATE R$ 81.000,00', \n",
    "                           'DE R$ 81.000,01 A R$ 360.000,00' : 'B. DE R$ 81.000,01 A R$ 360.000,00', \n",
    "                           'DE R$ 360.000,01 A R$ 1.500.000,00': 'C. DE R$ 360.000,01 A R$ 1.500.000,00', \n",
    "                           'DE R$ 1.500.000,01 A R$ 4.800.000,00' : 'D. DE R$ 1.500.000,01 A R$ 4.800.000,00',\n",
    "                           'DE R$ 4.800.000,01 A R$ 10.000.000,00' : 'E. DE R$ 4.800.000,01 A R$ 10.000.000,00',\n",
    "                           'DE R$ 10.000.000,01 A R$ 30.000.000,00' : 'F. DE R$ 10.000.000,01 A R$ 30.000.000,00',\n",
    "                           'DE R$ 30.000.000,01 A R$ 100.000.000,00' : 'G. DE R$ 30.000.000,01 A R$ 100.000.000,00',\n",
    "                           'DE R$ 100.000.000,01 A R$ 300.000.000,00' : 'H. DE R$ 100.000.000,01 A R$ 300.000.000,00',\n",
    "                           'DE R$ 300.000.000,01 A R$ 500.000.000,00' : 'I. DE R$ 300.000.000,01 A R$ 500.000.000,00',\n",
    "                           'DE R$ 500.000.000,01 A 1 BILHAO DE REAIS' : 'J. DE R$ 500.000.000,01 A 1 BILHAO DE REAIS',\n",
    "                           'ACIMA DE 1 BILHAO DE REAIS' : 'K. ACIMA DE 1 BILHAO DE REAIS'\n",
    "                          })\n",
    "\n",
    "#pet4_df = pet3_df.loc[:, ['Dados cadastrais - CNPJ', 'Porte e Faturamento - Faturamento Estimado' , 'Porte e Faturamento - Faturamento Estimado Grupo']]\n",
    "\n",
    "#display(pet4_df)\n",
    "\n",
    "#pet4_df.to_csv(\"parte4pet.csv\" , sep = \";\")\n",
    "\n"
   ]
  },
  {
   "cell_type": "markdown",
   "id": "4e0415c4",
   "metadata": {},
   "source": [
    "#### Criando nova planilha para tratamento da coluna CNAE Secundário"
   ]
  },
  {
   "cell_type": "code",
   "execution_count": 10,
   "id": "a2e03d71",
   "metadata": {},
   "outputs": [],
   "source": [
    "#Segmentação das empresas\n",
    "pet5_df = pet_df.loc[:, ['Dados cadastrais - CNPJ',\n",
    "                         'CNAE - Lista - Descrição do CNAE'\n",
    "                        ]]\n",
    "\n",
    "#Removendo caracteres\n",
    "pet5_df = pet5_df.replace(\"\\[\", \"\", regex=True)\n",
    "pet5_df = pet5_df.replace(\"]\", \"\", regex=True)\n",
    "\n",
    "#Fazendo uma cópia \n",
    "cnae = pet5_df[['Dados cadastrais - CNPJ',\n",
    "              'CNAE - Lista - Descrição do CNAE'\n",
    "              ]].copy()\n",
    "\n",
    "#Contando números de \";\"\n",
    "num = pet5_df['CNAE - Lista - Descrição do CNAE'].str.count(';').max() #função count: armazena a quantidade de caracteres em num\n",
    "num = int(num)\n",
    "\n",
    "#Fatiando cada linha\n",
    "cnae['CNAE - Lista - Descrição do CNAE'] = cnae['CNAE - Lista - Descrição do CNAE'].str.split(';', n= num) #função split: Dividir strings em torno de determinado separador\n",
    "\n",
    "#Transformando cada fatia em cuma coluna\n",
    "\n",
    "for k in range(num+1):\n",
    "    cnae['CNAE' + str(k)] = cnae['CNAE - Lista - Descrição do CNAE'].str.get(k)\n",
    "    \n",
    "#display(cnae)\n",
    "    \n",
    "#Excluindo a primeira opçao de cada linha, que virou uma coluna\n",
    "cnae = cnae.drop('CNAE0', axis=1)\n",
    "cnae = cnae.drop('CNAE - Lista - Descrição do CNAE', axis=1)\n",
    "\n",
    "#Unpiv\n",
    "cnae = pd.melt(cnae, id_vars = ['Dados cadastrais - CNPJ'])\n",
    "\n",
    "#Deletando linhas que possuem pelo menos um valor vazio\n",
    "\n",
    "cnae = cnae.dropna()\n",
    "\n",
    "#display(cnae)\n",
    "\n",
    "#cnae.to_csv(\"cnae.csv\" , sep = \";\")"
   ]
  },
  {
   "cell_type": "markdown",
   "id": "f30c456b",
   "metadata": {},
   "source": [
    "#### Selecionado colunas da segmentação"
   ]
  },
  {
   "cell_type": "code",
   "execution_count": 11,
   "id": "1a650af0",
   "metadata": {},
   "outputs": [],
   "source": [
    "#Segmentação\n",
    "pet6_df = pet_df.loc[:, ['Dados cadastrais - Descrição do CNAE Principal',\n",
    "                         'Dados cadastrais - Setor',\n",
    "                         'Dados cadastrais - Ramo de atividade',\n",
    "                         'Dados cadastrais - CNPJ'\n",
    "                        ]]\n",
    "\n",
    "#display(pet6_df)\n",
    "#pet6_df.to_csv(\"segmentacao.csv\" , sep = \";\")"
   ]
  },
  {
   "cell_type": "markdown",
   "id": "bf7ba3fb",
   "metadata": {},
   "source": [
    "#### Selecionando colunas da região demográfica"
   ]
  },
  {
   "cell_type": "code",
   "execution_count": 12,
   "id": "7844500b",
   "metadata": {},
   "outputs": [],
   "source": [
    "#Região demográfica\n",
    "reg_df = pet_df.loc[:, ['Localização e Contato - Região',\n",
    "                         'Localização e Contato - Mesorregião',\n",
    "                         'Localização e Contato - Microrregião',\n",
    "                         'Localização e Contato - Município',\n",
    "                         'Localização e Contato - UF',\n",
    "                         'Localização e Contato - Dados Neoway - Edifício Coletivo',\n",
    "                         'Localização e Contato - Dados Neoway - Tipo de Edifício',\n",
    "                         'Dados cadastrais - CNPJ'\n",
    "                        ]]\n",
    "\n",
    "reg_df.fillna('Em branco', inplace = True)\n",
    "\n",
    "#display(reg_df)\n",
    "\n",
    "#reg_df.to_csv(\"regiao.csv\" , sep = \";\")"
   ]
  },
  {
   "cell_type": "markdown",
   "id": "8e7c11c6",
   "metadata": {},
   "source": [
    "#### Criando nova planilha para tratamento da coluna SINTEGRA"
   ]
  },
  {
   "cell_type": "code",
   "execution_count": 13,
   "id": "d47e46ea",
   "metadata": {},
   "outputs": [],
   "source": [
    "#SINTEGRA\n",
    "sin_df = pet_df.loc[:, ['Sintegra - Situação cadastral']]\n",
    "\n",
    "#Removendo caracteres\n",
    "sin_df = sin_df.replace(\"\\[\", \"\", regex=True)\n",
    "sin_df = sin_df.replace(\"]\", \"\", regex=True)\n",
    "\n",
    "#Fazendo uma cópia \n",
    "sinc_df = sin_df[['Sintegra - Situação cadastral'\n",
    "              ]].copy()\n",
    "\n",
    "#Contando números de \";\"\n",
    "num1 = sinc_df['Sintegra - Situação cadastral'].str.count(';').max() #função count: armazena a quantidade de caracteres em num\n",
    "num1 = int(num1)\n",
    "\n",
    "#Fatiando cada linha\n",
    "sinc_df['Sintegra - Situação cadastral'] = sinc_df['Sintegra - Situação cadastral'].str.split(';', n= num1) #função split: Dividir strings em torno de determinado separador\n",
    "\n",
    "#Transformando cada fatia em cuma coluna\n",
    "\n",
    "for a in range(num1+1):\n",
    "    sinc_df['Sintegra' + str(a)] = sinc_df['Sintegra - Situação cadastral'].str.get(a)\n",
    "\n",
    "#Unpiv\n",
    "sinc_df = pd.melt(sinc_df, id_vars = ['Sintegra - Situação cadastral'])\n",
    "\n",
    "#Deletando linhas que possuem pelo menos um valor vazio\n",
    "\n",
    "sinc_df = sinc_df.dropna()\n",
    "\n",
    "\n",
    "#display(sinc_df)\n",
    "\n",
    "#sinc_df.to_csv(\"sintegra.csv\" , sep = \";\")"
   ]
  },
  {
   "cell_type": "markdown",
   "id": "c2eb7e64",
   "metadata": {},
   "source": [
    "#### Unindo colunas"
   ]
  },
  {
   "cell_type": "code",
   "execution_count": 21,
   "id": "1e5903b5",
   "metadata": {},
   "outputs": [
    {
     "data": {
      "text/plain": [
       "0       E. DE R$ 4.800.000,01 A R$ 10.000.000,00\n",
       "1                            A. ATE R$ 81.000,00\n",
       "2             B. DE R$ 81.000,01 A R$ 360.000,00\n",
       "3       E. DE R$ 4.800.000,01 A R$ 10.000.000,00\n",
       "4          C. DE R$ 360.000,01 A R$ 1.500.000,00\n",
       "                          ...                   \n",
       "1259                         A. ATE R$ 81.000,00\n",
       "1260                         A. ATE R$ 81.000,00\n",
       "1261          B. DE R$ 81.000,01 A R$ 360.000,00\n",
       "1262     D. DE R$ 1.500.000,01 A R$ 4.800.000,00\n",
       "1263       C. DE R$ 360.000,01 A R$ 1.500.000,00\n",
       "Name: Porte e Faturamento - Faturamento Estimado, Length: 1264, dtype: object"
      ]
     },
     "metadata": {},
     "output_type": "display_data"
    }
   ],
   "source": [
    "all = pet_df.loc[:, ['Dados cadastrais - Quantidade de filiais ativas', 'Filiais', 'Dados cadastrais - CNPJ',\n",
    "                        'Dados cadastrais - Situação cadastral', \n",
    "                        'Dados cadastrais - Ramo de atividade', 'Filiais ativas',\n",
    "                        'Dados cadastrais - Descrição natureza jurídica', \n",
    "                        'Dados cadastrais - Classificação natureza jurídica', 'Simples nacional - Optante simples', \n",
    "                        'Porte e Faturamento - Quantidade de funcionários' , \n",
    "                        'Porte e Faturamento - Quantidade de funcionários Grupo' , \n",
    "                        'Porte e Faturamento - Faturamento Estimado' , \n",
    "                        'Porte e Faturamento - Faturamento Estimado Grupo' , \n",
    "                        'Dados cadastrais - Quantidade de filiais ativas' , \n",
    "                        'Dados cadastrais - É matriz', 'Funcionários', 'Funcionários Grupo',\n",
    "                        'Dados cadastrais - Descrição do CNAE Principal',\n",
    "                        'Dados cadastrais - Setor',\n",
    "                         'Dados cadastrais - Ramo de atividade',\n",
    "                         'Localização e Contato - Região',\n",
    "                         'Localização e Contato - Mesorregião',\n",
    "                         'Localização e Contato - Microrregião',\n",
    "                         'Localização e Contato - Município',\n",
    "                         'Localização e Contato - UF',\n",
    "                         'Localização e Contato - Dados Neoway - Edifício Coletivo',\n",
    "                         'Localização e Contato - Dados Neoway - Tipo de Edifício',\n",
    "                         'Dados cadastrais - CNPJ']]\n",
    "\n",
    "\n",
    "all.to_csv(\"final.csv\" , sep = \";\")"
   ]
  },
  {
   "cell_type": "code",
   "execution_count": null,
   "id": "a5b98014",
   "metadata": {},
   "outputs": [],
   "source": []
  },
  {
   "cell_type": "code",
   "execution_count": null,
   "id": "54e7702e",
   "metadata": {},
   "outputs": [],
   "source": []
  }
 ],
 "metadata": {
  "kernelspec": {
   "display_name": "Python 3 (ipykernel)",
   "language": "python",
   "name": "python3"
  },
  "language_info": {
   "codemirror_mode": {
    "name": "ipython",
    "version": 3
   },
   "file_extension": ".py",
   "mimetype": "text/x-python",
   "name": "python",
   "nbconvert_exporter": "python",
   "pygments_lexer": "ipython3",
   "version": "3.9.12"
  }
 },
 "nbformat": 4,
 "nbformat_minor": 5
}
